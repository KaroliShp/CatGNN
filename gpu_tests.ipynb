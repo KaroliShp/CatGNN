{
  "cells": [
    {
      "cell_type": "code",
      "source": [
        "# Make sure GPU is Tesla K80\n",
        "!nvidia-smi -L"
      ],
      "metadata": {
        "id": "QG4L8Ic175RC"
      },
      "execution_count": null,
      "outputs": []
    },
    {
      "cell_type": "markdown",
      "metadata": {
        "id": "Sm8ZPfiwHM2U"
      },
      "source": [
        "# Setup"
      ]
    },
    {
      "cell_type": "markdown",
      "metadata": {
        "id": "sdPpkYbaRcfS"
      },
      "source": [
        "As the package is not published, this notebook works with files uploaded to Google Drive under the main directory "
      ]
    },
    {
      "cell_type": "code",
      "execution_count": null,
      "metadata": {
        "id": "lGueqI6wHkb0"
      },
      "outputs": [],
      "source": [
        "!python --version"
      ]
    },
    {
      "cell_type": "markdown",
      "source": [
        "The following is where you need to upload the CatGNN source files"
      ],
      "metadata": {
        "id": "O8DZpfz5ei0A"
      }
    },
    {
      "cell_type": "code",
      "execution_count": null,
      "metadata": {
        "id": "UYsB-oWWG_vQ"
      },
      "outputs": [],
      "source": [
        "%cd /content/drive/MyDrive/CatGNN\n",
        "%pwd"
      ]
    },
    {
      "cell_type": "code",
      "execution_count": 4,
      "metadata": {
        "id": "drhBZBjtKDjU"
      },
      "outputs": [],
      "source": [
        "!pip install -q torch-scatter -f https://pytorch-geometric.com/whl/torch-1.10.0+cu111.html\n",
        "!pip install -q torch-sparse -f https://pytorch-geometric.com/whl/torch-1.10.0+cu111.html\n",
        "!pip install -q git+https://github.com/pyg-team/pytorch_geometric.git"
      ]
    },
    {
      "cell_type": "code",
      "execution_count": null,
      "metadata": {
        "id": "hHHIGRmXLzx-"
      },
      "outputs": [],
      "source": [
        "!pip install ogb"
      ]
    },
    {
      "cell_type": "markdown",
      "source": [
        "# Semi-supervised node classification benchmarks (5.1)"
      ],
      "metadata": {
        "id": "g9iy_uKx4REn"
      }
    },
    {
      "cell_type": "code",
      "source": [
        "# Benchmarking function\n",
        "from benchmarks.benchmark_semi_supervised import run_pytorch_benchmarks_gcn_1, run_pytorch_benchmarks_gcn_2, run_pytorch_benchmarks_gat, run_pytorch_benchmarks_sgc"
      ],
      "metadata": {
        "id": "YUFXXyXH4WeY"
      },
      "execution_count": 9,
      "outputs": []
    },
    {
      "cell_type": "markdown",
      "source": [
        "## GCN_2"
      ],
      "metadata": {
        "id": "MyTXLuvW4kVI"
      }
    },
    {
      "cell_type": "code",
      "source": [
        "run_pytorch_benchmarks_gcn_2(repeat=100)"
      ],
      "metadata": {
        "id": "Fa-9rbt64XzJ"
      },
      "execution_count": 7,
      "outputs": []
    },
    {
      "cell_type": "code",
      "source": [
        "run_pytorch_benchmarks_gcn_2(name=\"CiteSeer\", repeat=100)"
      ],
      "metadata": {
        "id": "VxeISgz24Z7l"
      },
      "execution_count": null,
      "outputs": []
    },
    {
      "cell_type": "code",
      "source": [
        "run_pytorch_benchmarks_gcn_2(name=\"PubMed\", repeat=100)"
      ],
      "metadata": {
        "id": "9nD9qUqx4a5_"
      },
      "execution_count": null,
      "outputs": []
    },
    {
      "cell_type": "markdown",
      "source": [
        "## SGC"
      ],
      "metadata": {
        "id": "hcOJ9W1Dqxn6"
      }
    },
    {
      "cell_type": "code",
      "source": [
        "run_pytorch_benchmarks_sgc(repeat=100)"
      ],
      "metadata": {
        "id": "NsLDY04HqyMQ"
      },
      "execution_count": null,
      "outputs": []
    },
    {
      "cell_type": "code",
      "source": [
        "run_pytorch_benchmarks_sgc(name=\"CiteSeer\", repeat=100)"
      ],
      "metadata": {
        "id": "5ik1Dbq3q-_R"
      },
      "execution_count": null,
      "outputs": []
    },
    {
      "cell_type": "code",
      "source": [
        "run_pytorch_benchmarks_sgc(name=\"PubMed\", repeat=100)"
      ],
      "metadata": {
        "id": "6ZbZCkYXrB4e"
      },
      "execution_count": null,
      "outputs": []
    },
    {
      "cell_type": "markdown",
      "source": [
        "## GAT"
      ],
      "metadata": {
        "id": "V8IiVybG4i5c"
      }
    },
    {
      "cell_type": "code",
      "source": [
        "run_pytorch_benchmarks_gat(repeat=100)"
      ],
      "metadata": {
        "id": "pI7nDYnE437d"
      },
      "execution_count": null,
      "outputs": []
    },
    {
      "cell_type": "code",
      "source": [
        "run_pytorch_benchmarks_gat(name=\"CiteSeer\", repeat=100)"
      ],
      "metadata": {
        "id": "iZ_X6Irq4dFM"
      },
      "execution_count": null,
      "outputs": []
    },
    {
      "cell_type": "code",
      "source": [
        "run_pytorch_benchmarks_gat(name=\"PubMed\", repeat=100)"
      ],
      "metadata": {
        "id": "Ba-eXAvR4h9h"
      },
      "execution_count": null,
      "outputs": []
    },
    {
      "cell_type": "markdown",
      "source": [
        "## GCN_1"
      ],
      "metadata": {
        "id": "I4baF0lVsd-b"
      }
    },
    {
      "cell_type": "code",
      "source": [
        "run_pytorch_benchmarks_gcn_1(repeat=100)"
      ],
      "metadata": {
        "id": "qSmPAuu6sdXm"
      },
      "execution_count": null,
      "outputs": []
    },
    {
      "cell_type": "code",
      "source": [
        "run_pytorch_benchmarks_gcn_1(name=\"CiteSeer\", repeat=100)"
      ],
      "metadata": {
        "id": "vM36Bc6eskAy"
      },
      "execution_count": 14,
      "outputs": []
    },
    {
      "cell_type": "code",
      "source": [
        "run_pytorch_benchmarks_gcn_1(name=\"PubMed\", repeat=100)"
      ],
      "metadata": {
        "id": "XKXs-f-HslNW"
      },
      "execution_count": null,
      "outputs": []
    },
    {
      "cell_type": "markdown",
      "source": [
        "# Graph classification benchmarks (5.2)"
      ],
      "metadata": {
        "id": "1NlSwPGGe4tk"
      }
    },
    {
      "cell_type": "code",
      "source": [
        "# Benchmarking function\n",
        "from benchmarks.benchmark_supervised import run_pytorch_benchmarks_gcn, run_pytorch_benchmarks_gin_0, run_pytorch_benchmarks_gin, run_pytorch_benchmarks_sage"
      ],
      "metadata": {
        "id": "mgCjFIyXfOSK"
      },
      "execution_count": null,
      "outputs": []
    },
    {
      "cell_type": "markdown",
      "source": [
        "## GCN"
      ],
      "metadata": {
        "id": "VuMQap94fEVI"
      }
    },
    {
      "cell_type": "code",
      "source": [
        "run_pytorch_benchmarks_gcn(\"MUTAG\", 3, 32)"
      ],
      "metadata": {
        "id": "gLe-_PCufF37"
      },
      "execution_count": null,
      "outputs": []
    },
    {
      "cell_type": "code",
      "source": [
        "run_pytorch_benchmarks_gcn(\"PROTEINS\", 3, 32)"
      ],
      "metadata": {
        "id": "Sp6HyfyMfHE1"
      },
      "execution_count": null,
      "outputs": []
    },
    {
      "cell_type": "code",
      "source": [
        "run_pytorch_benchmarks_gcn(\"REDDIT-BINARY\", 3, 32)"
      ],
      "metadata": {
        "id": "hHw-pSOvfINV"
      },
      "execution_count": null,
      "outputs": []
    },
    {
      "cell_type": "markdown",
      "source": [
        "## GIN"
      ],
      "metadata": {
        "id": "mAnEl6SBfJ5d"
      }
    },
    {
      "cell_type": "code",
      "source": [
        "run_pytorch_benchmarks_gin(\"MUTAG\", 3, 32)"
      ],
      "metadata": {
        "id": "VZSTWs3VfLC6"
      },
      "execution_count": null,
      "outputs": []
    },
    {
      "cell_type": "code",
      "source": [
        "run_pytorch_benchmarks_gin(\"PROTEINS\", 3, 32)"
      ],
      "metadata": {
        "id": "Y0SxIrgOfL7v"
      },
      "execution_count": null,
      "outputs": []
    },
    {
      "cell_type": "code",
      "source": [
        "run_pytorch_benchmarks_gin(\"REDDIT-BINARY\", 3, 32)"
      ],
      "metadata": {
        "id": "2fIA_lF8fM2V"
      },
      "execution_count": null,
      "outputs": []
    },
    {
      "cell_type": "markdown",
      "source": [
        "## SAGE"
      ],
      "metadata": {
        "id": "OkSEyjRmfQYC"
      }
    },
    {
      "cell_type": "code",
      "source": [
        "run_pytorch_benchmarks_sage(\"MUTAG\", 3, 32)"
      ],
      "metadata": {
        "id": "h90wMZo5fRgq"
      },
      "execution_count": null,
      "outputs": []
    },
    {
      "cell_type": "code",
      "source": [
        "run_pytorch_benchmarks_sage(\"PROTEINS\", 3, 32)"
      ],
      "metadata": {
        "id": "VIWNgZO4fSsw"
      },
      "execution_count": null,
      "outputs": []
    },
    {
      "cell_type": "code",
      "source": [
        "run_pytorch_benchmarks_sage(\"REDDIT-BINARY\", 3, 32)"
      ],
      "metadata": {
        "id": "FToMYBEyfoe6"
      },
      "execution_count": null,
      "outputs": []
    },
    {
      "cell_type": "markdown",
      "metadata": {
        "id": "Tcu-QjVeKQAu"
      },
      "source": [
        "# OGB arxiv benchmarks (5.3)"
      ]
    },
    {
      "cell_type": "code",
      "execution_count": 6,
      "metadata": {
        "id": "M6AqWcjKGEJ4"
      },
      "outputs": [],
      "source": [
        "# Benchmarking function\n",
        "from benchmarks.benchmark_ogb_arxiv import main"
      ]
    },
    {
      "cell_type": "code",
      "execution_count": 7,
      "metadata": {
        "id": "MJNpcRM3Rw50"
      },
      "outputs": [],
      "source": [
        "# Fake args class (fast hack)\n",
        "class FakeArgs:\n",
        "    def __init__(self):\n",
        "        self.device = 0\n",
        "        self.log_steps = 1\n",
        "        self.use_sage = False\n",
        "        self.use_gat = False\n",
        "        self.use_sgc = False\n",
        "        self.num_layers = 3\n",
        "        self.hidden_channels = 64\n",
        "        self.dropout = 0.5\n",
        "        self.lr = 0.01\n",
        "        self.epochs = 500\n",
        "        self.runs = 10\n",
        "        self.catgnn = True\n",
        "        self.catgnn_factored = False\n",
        "        self.catgnn_forward = False\n",
        "        self.catgnn_mpnn_1 = False"
      ]
    },
    {
      "cell_type": "markdown",
      "metadata": {
        "id": "WGjxbNmnR4Jy"
      },
      "source": [
        "## GCN"
      ]
    },
    {
      "cell_type": "code",
      "execution_count": null,
      "metadata": {
        "id": "2ZGrhPLNGKWC"
      },
      "outputs": [],
      "source": [
        "# CatGNN backwards\n",
        "fake_args = FakeArgs()\n",
        "fake_args.catgnn = True\n",
        "fake_args.epochs = 250\n",
        "\n",
        "main(fake_args)"
      ]
    },
    {
      "cell_type": "code",
      "execution_count": null,
      "metadata": {
        "id": "fsS0T0L6K587"
      },
      "outputs": [],
      "source": [
        "# PyG\n",
        "fake_args = FakeArgs()\n",
        "fake_args.catgnn = False\n",
        "fake_args.epochs = 250\n",
        "\n",
        "main(fake_args)"
      ]
    },
    {
      "cell_type": "code",
      "execution_count": null,
      "metadata": {
        "id": "sgn04iDTUKeQ"
      },
      "outputs": [],
      "source": [
        "# CatGNN forwards\n",
        "fake_args = FakeArgs()\n",
        "fake_args.catgnn = True\n",
        "fake_args.epochs = 250\n",
        "fake_args.catgnn_forward = True\n",
        "\n",
        "main(fake_args)"
      ]
    },
    {
      "cell_type": "code",
      "execution_count": null,
      "metadata": {
        "id": "rt1JTIDJUL0G"
      },
      "outputs": [],
      "source": [
        "# CatGNN factored\n",
        "fake_args = FakeArgs()\n",
        "fake_args.catgnn = True\n",
        "fake_args.epochs = 250\n",
        "fake_args.catgnn_factored = True\n",
        "\n",
        "main(fake_args)"
      ]
    },
    {
      "cell_type": "markdown",
      "source": [
        "## GraphSAGE"
      ],
      "metadata": {
        "id": "LfHnQP7qal42"
      }
    },
    {
      "cell_type": "code",
      "source": [
        "# CatGNN\n",
        "fake_args = FakeArgs()\n",
        "fake_args.catgnn = True\n",
        "fake_args.epochs = 250\n",
        "fake_args.use_sage = True\n",
        "\n",
        "main(fake_args)"
      ],
      "metadata": {
        "id": "XtA9A8ZRanZC"
      },
      "execution_count": null,
      "outputs": []
    },
    {
      "cell_type": "code",
      "source": [
        "# PyG\n",
        "fake_args = FakeArgs()\n",
        "fake_args.catgnn = False\n",
        "fake_args.epochs = 250\n",
        "fake_args.use_sage = True\n",
        "\n",
        "main(fake_args)"
      ],
      "metadata": {
        "id": "nxhggRTebFqe"
      },
      "execution_count": null,
      "outputs": []
    },
    {
      "cell_type": "markdown",
      "source": [
        "## SGC"
      ],
      "metadata": {
        "id": "VM5pmdtVbLjM"
      }
    },
    {
      "cell_type": "code",
      "source": [
        "# CatGNN\n",
        "fake_args = FakeArgs()\n",
        "fake_args.catgnn = True\n",
        "fake_args.epochs = 250\n",
        "fake_args.use_sgc = True\n",
        "\n",
        "main(fake_args)"
      ],
      "metadata": {
        "id": "E2BvjJ2lbMoJ"
      },
      "execution_count": null,
      "outputs": []
    },
    {
      "cell_type": "code",
      "source": [
        "# PyG\n",
        "fake_args = FakeArgs()\n",
        "fake_args.catgnn = False\n",
        "fake_args.epochs = 250\n",
        "fake_args.use_sgc = True\n",
        "\n",
        "main(fake_args)"
      ],
      "metadata": {
        "id": "wc1Yj1XLbRta"
      },
      "execution_count": null,
      "outputs": []
    },
    {
      "cell_type": "markdown",
      "source": [
        "## GAT"
      ],
      "metadata": {
        "id": "rP5qMdvb9fJk"
      }
    },
    {
      "cell_type": "code",
      "execution_count": null,
      "metadata": {
        "id": "FvGCI1euLHjX"
      },
      "outputs": [],
      "source": [
        "# CatGNN\n",
        "fake_args = FakeArgs()\n",
        "fake_args.catgnn = True\n",
        "fake_args.use_gat = True\n",
        "fake_args.hidden_channels = 16\n",
        "fake_args.epochs = 250\n",
        "\n",
        "main(fake_args)"
      ]
    },
    {
      "cell_type": "code",
      "source": [
        "# PyG\n",
        "fake_args = FakeArgs()\n",
        "fake_args.catgnn = False\n",
        "fake_args.use_gat = True\n",
        "fake_args.hidden_channels = 16\n",
        "fake_args.epochs = 250\n",
        "\n",
        "main(fake_args)"
      ],
      "metadata": {
        "id": "HWZ3QJQM9gEU"
      },
      "execution_count": null,
      "outputs": []
    },
    {
      "cell_type": "markdown",
      "source": [
        "# OGB mol benchmarks (5.3)"
      ],
      "metadata": {
        "id": "V38wMl73ahmi"
      }
    },
    {
      "cell_type": "code",
      "source": [
        "# Benchmarking function\n",
        "from benchmarks.benchmark_ogb_mol import main"
      ],
      "metadata": {
        "id": "cEaTpKo0am0H"
      },
      "execution_count": null,
      "outputs": []
    },
    {
      "cell_type": "code",
      "source": [
        "# Fake args class (fast hack)\n",
        "class FakeArgs:\n",
        "    def __init__(self):\n",
        "      self.device = 0\n",
        "      self.gnn = 'gcn'\n",
        "      self.drop_ratio = 0.5\n",
        "      self.num_layer = 5\n",
        "      self.emb_dim = 300\n",
        "      self.batch_size = 32\n",
        "      self.epochs = 100\n",
        "      self.num_workers = 0\n",
        "      self.dataset = \"ogbg-molhiv\"\n",
        "      self.feature = \"full\"\n",
        "      self.filename = \"\""
      ],
      "metadata": {
        "id": "rUKdTs_ean_U"
      },
      "execution_count": null,
      "outputs": []
    },
    {
      "cell_type": "markdown",
      "source": [
        "## GCN"
      ],
      "metadata": {
        "id": "_GgYa7XTalcn"
      }
    },
    {
      "cell_type": "code",
      "source": [
        "# CatGNN\n",
        "fake_args = FakeArgs()\n",
        "fake_args.gnn = 'catgnn-gcn'\n",
        "\n",
        "main(fake_args)"
      ],
      "metadata": {
        "id": "_n6q7dv0apua"
      },
      "execution_count": null,
      "outputs": []
    },
    {
      "cell_type": "code",
      "source": [
        "# PyG\n",
        "fake_args = FakeArgs()\n",
        "\n",
        "main(fake_args)"
      ],
      "metadata": {
        "id": "yvCVggDTaq6Q"
      },
      "execution_count": null,
      "outputs": []
    },
    {
      "cell_type": "markdown",
      "source": [
        "## GIN"
      ],
      "metadata": {
        "id": "J_kwcplEec5u"
      }
    },
    {
      "cell_type": "code",
      "source": [
        "# CatGNN\n",
        "fake_args = FakeArgs()\n",
        "fake_args.gnn = 'catgnn-gin'\n",
        "\n",
        "main(fake_args)"
      ],
      "metadata": {
        "id": "DEbydKwLedoY"
      },
      "execution_count": null,
      "outputs": []
    },
    {
      "cell_type": "code",
      "source": [
        "# PyG\n",
        "fake_args = FakeArgs()\n",
        "fake_args.gnn = 'gin'\n",
        "\n",
        "main(fake_args)"
      ],
      "metadata": {
        "id": "EQ0lcvTHefKW"
      },
      "execution_count": null,
      "outputs": []
    }
  ],
  "metadata": {
    "accelerator": "GPU",
    "colab": {
      "collapsed_sections": [],
      "name": "GPU tests.ipynb",
      "provenance": [],
      "toc_visible": true
    },
    "kernelspec": {
      "display_name": "Python 3",
      "name": "python3"
    },
    "language_info": {
      "name": "python"
    }
  },
  "nbformat": 4,
  "nbformat_minor": 0
}